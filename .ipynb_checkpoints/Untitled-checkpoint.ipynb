{
 "cells": [
  {
   "cell_type": "code",
   "execution_count": null,
   "id": "71cffde6-a4c5-4fc2-b6ce-2979c1e5f678",
   "metadata": {},
   "outputs": [],
   "source": [
    "import nltk\n",
    "import pandas as pd\n",
    "from nltk.tokenize import word_tokenize\n",
    "from gensim.parsing.preprocessing import remove_stopwords\n",
    "from collections import Counter\n",
    "with open('/content/Prompt.txt', 'r') as file:\n",
    "    sentence = file.read() \n",
    "nltk.download('punkt', quiet=True)\n",
    "tokens = word_tokenize(sentence)\n",
    "filtered_sentence = remove_stopwords(' '.join(tokens))\n",
    "filtered_words = filtered_sentence.split()\n",
    "word_freq = Counter(filtered_words)\n",
    "print(\"Extracted words (without stop words):\", filtered_words)\n",
    "print(\"Word frequency:\", word_freq)"
   ]
  },
  {
   "cell_type": "code",
   "execution_count": null,
   "id": "c8c4d902-ad69-4d59-b6c2-ad5068f81d22",
   "metadata": {},
   "outputs": [],
   "source": []
  },
  {
   "cell_type": "code",
   "execution_count": null,
   "id": "59a41c69-083f-44dd-8da2-b3968c88ac37",
   "metadata": {},
   "outputs": [],
   "source": []
  },
  {
   "cell_type": "code",
   "execution_count": null,
   "id": "798e8b82-7d0f-4bae-923c-bd76ba621859",
   "metadata": {},
   "outputs": [],
   "source": []
  }
 ],
 "metadata": {
  "kernelspec": {
   "display_name": "Python 3 (ipykernel)",
   "language": "python",
   "name": "python3"
  },
  "language_info": {
   "codemirror_mode": {
    "name": "ipython",
    "version": 3
   },
   "file_extension": ".py",
   "mimetype": "text/x-python",
   "name": "python",
   "nbconvert_exporter": "python",
   "pygments_lexer": "ipython3",
   "version": "3.12.2"
  }
 },
 "nbformat": 4,
 "nbformat_minor": 5
}
